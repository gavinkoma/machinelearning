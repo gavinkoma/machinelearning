{
 "cells": [
  {
   "cell_type": "markdown",
   "metadata": {},
   "source": [
    "# Homework 2: Supervised Learning - k-Nearest Neighbor (kNN) Algorithm \n",
    "\n",
    "k-Nearest Neighbor (kNN) algorithm uses a simple idea: \"you are what your neighbors are\". In the first part of the assignment, we will cover some background needed to understand the kNN algorithm. In the second part, you will be asked to apply your knowledge on another data set. \n",
    "\n",
    "## Part A: kNN Tutorial with Questions (50% of grade)\n",
    "\n",
    "Let us start by importing the needed libraries. We will continue using the sklearn library, which implements many of the most popular data science algorithms. "
   ]
  },
  {
   "cell_type": "code",
   "execution_count": 1,
   "metadata": {},
   "outputs": [],
   "source": [
    "import numpy as np\n",
    "import matplotlib.pyplot as plt\n",
    "from matplotlib.colors import ListedColormap\n",
    "from sklearn import neighbors, datasets"
   ]
  },
  {
   "cell_type": "markdown",
   "metadata": {},
   "source": [
    "Let us load the Iris data set using a sklearn function `load_iris`."
   ]
  },
  {
   "cell_type": "code",
   "execution_count": 2,
   "metadata": {},
   "outputs": [],
   "source": [
    "iris = datasets.load_iris()"
   ]
  },
  {
   "cell_type": "markdown",
   "metadata": {},
   "source": [
    "As you can see from http://scikit-learn.org/stable/modules/generated/sklearn.datasets.load_iris.html, `iris` is an object with features `data` (a 150x4 matrix, where $i$-th row are 4 features of the $i$-th flower), `feature_names` (the names of the 4 features), `target` (a vector of length 150, where $i$-th number is the type of the $i$-th flower -- in machine learning people often say \"label\" instead of \"target\"), `target_names` (these are strings explaining what each of the 3 types of flowers are), and `DESCR` (giving some information about the Iris data set). Let us list them all "
   ]
  },
  {
   "cell_type": "code",
   "execution_count": 3,
   "metadata": {},
   "outputs": [
    {
     "name": "stdout",
     "output_type": "stream",
     "text": [
      ".. _iris_dataset:\n",
      "\n",
      "Iris plants dataset\n",
      "--------------------\n",
      "\n",
      "**Data Set Characteristics:**\n",
      "\n",
      "    :Number of Instances: 150 (50 in each of three classes)\n",
      "    :Number of Attributes: 4 numeric, predictive attributes and the class\n",
      "    :Attribute Information:\n",
      "        - sepal length in cm\n",
      "        - sepal width in cm\n",
      "        - petal length in cm\n",
      "        - petal width in cm\n",
      "        - class:\n",
      "                - Iris-Setosa\n",
      "                - Iris-Versicolour\n",
      "                - Iris-Virginica\n",
      "                \n",
      "    :Summary Statistics:\n",
      "\n",
      "    ============== ==== ==== ======= ===== ====================\n",
      "                    Min  Max   Mean    SD   Class Correlation\n",
      "    ============== ==== ==== ======= ===== ====================\n",
      "    sepal length:   4.3  7.9   5.84   0.83    0.7826\n",
      "    sepal width:    2.0  4.4   3.05   0.43   -0.4194\n",
      "    petal length:   1.0  6.9   3.76   1.76    0.9490  (high!)\n",
      "    petal width:    0.1  2.5   1.20   0.76    0.9565  (high!)\n",
      "    ============== ==== ==== ======= ===== ====================\n",
      "\n",
      "    :Missing Attribute Values: None\n",
      "    :Class Distribution: 33.3% for each of 3 classes.\n",
      "    :Creator: R.A. Fisher\n",
      "    :Donor: Michael Marshall (MARSHALL%PLU@io.arc.nasa.gov)\n",
      "    :Date: July, 1988\n",
      "\n",
      "The famous Iris database, first used by Sir R.A. Fisher. The dataset is taken\n",
      "from Fisher's paper. Note that it's the same as in R, but not as in the UCI\n",
      "Machine Learning Repository, which has two wrong data points.\n",
      "\n",
      "This is perhaps the best known database to be found in the\n",
      "pattern recognition literature.  Fisher's paper is a classic in the field and\n",
      "is referenced frequently to this day.  (See Duda & Hart, for example.)  The\n",
      "data set contains 3 classes of 50 instances each, where each class refers to a\n",
      "type of iris plant.  One class is linearly separable from the other 2; the\n",
      "latter are NOT linearly separable from each other.\n",
      "\n",
      ".. topic:: References\n",
      "\n",
      "   - Fisher, R.A. \"The use of multiple measurements in taxonomic problems\"\n",
      "     Annual Eugenics, 7, Part II, 179-188 (1936); also in \"Contributions to\n",
      "     Mathematical Statistics\" (John Wiley, NY, 1950).\n",
      "   - Duda, R.O., & Hart, P.E. (1973) Pattern Classification and Scene Analysis.\n",
      "     (Q327.D83) John Wiley & Sons.  ISBN 0-471-22361-1.  See page 218.\n",
      "   - Dasarathy, B.V. (1980) \"Nosing Around the Neighborhood: A New System\n",
      "     Structure and Classification Rule for Recognition in Partially Exposed\n",
      "     Environments\".  IEEE Transactions on Pattern Analysis and Machine\n",
      "     Intelligence, Vol. PAMI-2, No. 1, 67-71.\n",
      "   - Gates, G.W. (1972) \"The Reduced Nearest Neighbor Rule\".  IEEE Transactions\n",
      "     on Information Theory, May 1972, 431-433.\n",
      "   - See also: 1988 MLC Proceedings, 54-64.  Cheeseman et al\"s AUTOCLASS II\n",
      "     conceptual clustering system finds 3 classes in the data.\n",
      "   - Many, many more ...\n",
      "[[5.1 3.5 1.4 0.2]\n",
      " [4.9 3.  1.4 0.2]\n",
      " [4.7 3.2 1.3 0.2]\n",
      " [4.6 3.1 1.5 0.2]\n",
      " [5.  3.6 1.4 0.2]\n",
      " [5.4 3.9 1.7 0.4]\n",
      " [4.6 3.4 1.4 0.3]\n",
      " [5.  3.4 1.5 0.2]\n",
      " [4.4 2.9 1.4 0.2]\n",
      " [4.9 3.1 1.5 0.1]\n",
      " [5.4 3.7 1.5 0.2]\n",
      " [4.8 3.4 1.6 0.2]\n",
      " [4.8 3.  1.4 0.1]\n",
      " [4.3 3.  1.1 0.1]\n",
      " [5.8 4.  1.2 0.2]\n",
      " [5.7 4.4 1.5 0.4]\n",
      " [5.4 3.9 1.3 0.4]\n",
      " [5.1 3.5 1.4 0.3]\n",
      " [5.7 3.8 1.7 0.3]\n",
      " [5.1 3.8 1.5 0.3]\n",
      " [5.4 3.4 1.7 0.2]\n",
      " [5.1 3.7 1.5 0.4]\n",
      " [4.6 3.6 1.  0.2]\n",
      " [5.1 3.3 1.7 0.5]\n",
      " [4.8 3.4 1.9 0.2]\n",
      " [5.  3.  1.6 0.2]\n",
      " [5.  3.4 1.6 0.4]\n",
      " [5.2 3.5 1.5 0.2]\n",
      " [5.2 3.4 1.4 0.2]\n",
      " [4.7 3.2 1.6 0.2]\n",
      " [4.8 3.1 1.6 0.2]\n",
      " [5.4 3.4 1.5 0.4]\n",
      " [5.2 4.1 1.5 0.1]\n",
      " [5.5 4.2 1.4 0.2]\n",
      " [4.9 3.1 1.5 0.2]\n",
      " [5.  3.2 1.2 0.2]\n",
      " [5.5 3.5 1.3 0.2]\n",
      " [4.9 3.6 1.4 0.1]\n",
      " [4.4 3.  1.3 0.2]\n",
      " [5.1 3.4 1.5 0.2]\n",
      " [5.  3.5 1.3 0.3]\n",
      " [4.5 2.3 1.3 0.3]\n",
      " [4.4 3.2 1.3 0.2]\n",
      " [5.  3.5 1.6 0.6]\n",
      " [5.1 3.8 1.9 0.4]\n",
      " [4.8 3.  1.4 0.3]\n",
      " [5.1 3.8 1.6 0.2]\n",
      " [4.6 3.2 1.4 0.2]\n",
      " [5.3 3.7 1.5 0.2]\n",
      " [5.  3.3 1.4 0.2]\n",
      " [7.  3.2 4.7 1.4]\n",
      " [6.4 3.2 4.5 1.5]\n",
      " [6.9 3.1 4.9 1.5]\n",
      " [5.5 2.3 4.  1.3]\n",
      " [6.5 2.8 4.6 1.5]\n",
      " [5.7 2.8 4.5 1.3]\n",
      " [6.3 3.3 4.7 1.6]\n",
      " [4.9 2.4 3.3 1. ]\n",
      " [6.6 2.9 4.6 1.3]\n",
      " [5.2 2.7 3.9 1.4]\n",
      " [5.  2.  3.5 1. ]\n",
      " [5.9 3.  4.2 1.5]\n",
      " [6.  2.2 4.  1. ]\n",
      " [6.1 2.9 4.7 1.4]\n",
      " [5.6 2.9 3.6 1.3]\n",
      " [6.7 3.1 4.4 1.4]\n",
      " [5.6 3.  4.5 1.5]\n",
      " [5.8 2.7 4.1 1. ]\n",
      " [6.2 2.2 4.5 1.5]\n",
      " [5.6 2.5 3.9 1.1]\n",
      " [5.9 3.2 4.8 1.8]\n",
      " [6.1 2.8 4.  1.3]\n",
      " [6.3 2.5 4.9 1.5]\n",
      " [6.1 2.8 4.7 1.2]\n",
      " [6.4 2.9 4.3 1.3]\n",
      " [6.6 3.  4.4 1.4]\n",
      " [6.8 2.8 4.8 1.4]\n",
      " [6.7 3.  5.  1.7]\n",
      " [6.  2.9 4.5 1.5]\n",
      " [5.7 2.6 3.5 1. ]\n",
      " [5.5 2.4 3.8 1.1]\n",
      " [5.5 2.4 3.7 1. ]\n",
      " [5.8 2.7 3.9 1.2]\n",
      " [6.  2.7 5.1 1.6]\n",
      " [5.4 3.  4.5 1.5]\n",
      " [6.  3.4 4.5 1.6]\n",
      " [6.7 3.1 4.7 1.5]\n",
      " [6.3 2.3 4.4 1.3]\n",
      " [5.6 3.  4.1 1.3]\n",
      " [5.5 2.5 4.  1.3]\n",
      " [5.5 2.6 4.4 1.2]\n",
      " [6.1 3.  4.6 1.4]\n",
      " [5.8 2.6 4.  1.2]\n",
      " [5.  2.3 3.3 1. ]\n",
      " [5.6 2.7 4.2 1.3]\n",
      " [5.7 3.  4.2 1.2]\n",
      " [5.7 2.9 4.2 1.3]\n",
      " [6.2 2.9 4.3 1.3]\n",
      " [5.1 2.5 3.  1.1]\n",
      " [5.7 2.8 4.1 1.3]\n",
      " [6.3 3.3 6.  2.5]\n",
      " [5.8 2.7 5.1 1.9]\n",
      " [7.1 3.  5.9 2.1]\n",
      " [6.3 2.9 5.6 1.8]\n",
      " [6.5 3.  5.8 2.2]\n",
      " [7.6 3.  6.6 2.1]\n",
      " [4.9 2.5 4.5 1.7]\n",
      " [7.3 2.9 6.3 1.8]\n",
      " [6.7 2.5 5.8 1.8]\n",
      " [7.2 3.6 6.1 2.5]\n",
      " [6.5 3.2 5.1 2. ]\n",
      " [6.4 2.7 5.3 1.9]\n",
      " [6.8 3.  5.5 2.1]\n",
      " [5.7 2.5 5.  2. ]\n",
      " [5.8 2.8 5.1 2.4]\n",
      " [6.4 3.2 5.3 2.3]\n",
      " [6.5 3.  5.5 1.8]\n",
      " [7.7 3.8 6.7 2.2]\n",
      " [7.7 2.6 6.9 2.3]\n",
      " [6.  2.2 5.  1.5]\n",
      " [6.9 3.2 5.7 2.3]\n",
      " [5.6 2.8 4.9 2. ]\n",
      " [7.7 2.8 6.7 2. ]\n",
      " [6.3 2.7 4.9 1.8]\n",
      " [6.7 3.3 5.7 2.1]\n",
      " [7.2 3.2 6.  1.8]\n",
      " [6.2 2.8 4.8 1.8]\n",
      " [6.1 3.  4.9 1.8]\n",
      " [6.4 2.8 5.6 2.1]\n",
      " [7.2 3.  5.8 1.6]\n",
      " [7.4 2.8 6.1 1.9]\n",
      " [7.9 3.8 6.4 2. ]\n",
      " [6.4 2.8 5.6 2.2]\n",
      " [6.3 2.8 5.1 1.5]\n",
      " [6.1 2.6 5.6 1.4]\n",
      " [7.7 3.  6.1 2.3]\n",
      " [6.3 3.4 5.6 2.4]\n",
      " [6.4 3.1 5.5 1.8]\n",
      " [6.  3.  4.8 1.8]\n",
      " [6.9 3.1 5.4 2.1]\n",
      " [6.7 3.1 5.6 2.4]\n",
      " [6.9 3.1 5.1 2.3]\n",
      " [5.8 2.7 5.1 1.9]\n",
      " [6.8 3.2 5.9 2.3]\n",
      " [6.7 3.3 5.7 2.5]\n",
      " [6.7 3.  5.2 2.3]\n",
      " [6.3 2.5 5.  1.9]\n",
      " [6.5 3.  5.2 2. ]\n",
      " [6.2 3.4 5.4 2.3]\n",
      " [5.9 3.  5.1 1.8]]\n",
      "['sepal length (cm)', 'sepal width (cm)', 'petal length (cm)', 'petal width (cm)']\n",
      "[0 0 0 0 0 0 0 0 0 0 0 0 0 0 0 0 0 0 0 0 0 0 0 0 0 0 0 0 0 0 0 0 0 0 0 0 0\n",
      " 0 0 0 0 0 0 0 0 0 0 0 0 0 1 1 1 1 1 1 1 1 1 1 1 1 1 1 1 1 1 1 1 1 1 1 1 1\n",
      " 1 1 1 1 1 1 1 1 1 1 1 1 1 1 1 1 1 1 1 1 1 1 1 1 1 1 2 2 2 2 2 2 2 2 2 2 2\n",
      " 2 2 2 2 2 2 2 2 2 2 2 2 2 2 2 2 2 2 2 2 2 2 2 2 2 2 2 2 2 2 2 2 2 2 2 2 2\n",
      " 2 2]\n",
      "['setosa' 'versicolor' 'virginica']\n"
     ]
    }
   ],
   "source": [
    "print(iris.DESCR) \n",
    "print(iris.data) \n",
    "print(iris.feature_names) \n",
    "print(iris.target)\n",
    "print(iris.target_names)"
   ]
  },
  {
   "cell_type": "markdown",
   "metadata": {},
   "source": [
    "So, we can see that the features of the second flower are `[4.9, 3.0, 1.4, 0.2]`, which means its `sepal_length` is 4.9 cm, `sepal_width` is 3.0 cm, `petal_length` is 1.4 cm, and `petal_width` is 0.2 cm. We will write it matematically as $x_2 = [x_{21}, x_{22}, x_{23}, x_{24}] = [4.9, 3.0, 1.4, 0.2]$. We see that its `target` is 0, which means the type of this iris is `setosa`. We will write it matematically as $y_2 = 0$. All this information was obtained by real botanists who studied iris flowers trying to understand the physical measurements that discriminate between the 3 different types of those flowers.\n",
    "\n",
    "In machine learning, people like to denote this data set as $D_{Iris} = \\{(x_i, y_i), i = 1, 2 ... 150\\}$, meaning that data set $D_{Iris}$ is a set of 150 labeled examples $(x_i, y_i)$. An alternative is to write $D_{Iris} = \\{X_{Iris}, Y_{Iris}\\}$.\n",
    "\n",
    "### Supervised Learning\n",
    "Supervised learning is a game with the following objective. You are given the iris data set $D_{Iris}$ where you know 4 features and target values for 150 irises and your objective is to come up with a computer program that predicts a type of any iris flower given the values of its 4 attributes. Written in pseudocode, this is what you have to do:\n",
    "\n",
    "`predictor = create(algorithm_type, D)\n",
    "y_new = predictor(x_new)`\n",
    "\n",
    "In the first line, you are running a `create` function that takes as input data set `D` and the name of a supervised learning algorithm `algorithm_type` and produces as an output a computer program `predictor`. In the second line, you are using `predictor` to predict the label (`y_new` value) for a flower whose features are given by `x_new`.\n",
    "\n",
    "### kNN Algorithm\n",
    "kNN is a popular supervised learning algorithm that allows us to create `predictor`. The idea of kNN is that the label of flower `x_new` depends on labels of flowers in its neighborhood. In particular, kNN finds the distance between `x_new` and every example `x` in data set `D`. Then, it looks at the label `y` of k examples which are the closest to `x_new`. The predicted label `y_new` is obtained as the most common label in the group of the k nearest neighbors.\n",
    "\n",
    "**Parameter choice**. We need to make a few decisions when running kNN. The most important is the choice of `k`. If `k = 1`, then we are looking only at the hearest neighbor and it might not be a good idea if we are dealing with noisy data. If `k` is very large, then we might be counting far neighbors that might have different properties. Other decisions include the choice of distance metric (Euclidean is the standard one) and the choice whether to weight closer neighbors more than the farther ones.\n",
    "\n",
    "**Accuracy**. When deciding which parameters to pick or which supervised learning algorithm to use (there are popular algorithms other than kNN), the question is how to measure which choice is better. The answer is to check if `predictor` provides accurate prediction. Given a data set `D`, a typical way to check accuracy is to randomly split `D` into two data sets, `D_train` and `D_test`. Then, `predictor` is created/trained using `D_train` data set and its accuracy is checked using `D_test`. In particular, we use `predictor` to predict label of every example from `D_test` and compare it with the true labels. The percentage of the correct guesses on `D_test` is reported as accuracy of `predictor`.\n",
    "\n",
    "## kNN Demo\n",
    "The following piece of code is taken from:\n",
    "http://scikit-learn.org/stable/auto_examples/neighbors/plot_classification.html#sphx-glr-auto-examples-neighbors-plot-classification-py. Let us run it (it is guaranteed to run with Python 2.7)."
   ]
  },
  {
   "cell_type": "code",
   "execution_count": 4,
   "metadata": {},
   "outputs": [
    {
     "name": "stderr",
     "output_type": "stream",
     "text": [
      "<ipython-input-4-685550b35fd5>:28: MatplotlibDeprecationWarning: shading='flat' when X and Y have the same dimensions as C is deprecated since 3.3.  Either specify the corners of the quadrilaterals with X and Y, or pass shading='auto', 'nearest' or 'gouraud', or set rcParams['pcolor.shading'].  This will become an error two minor releases later.\n",
      "  plt.pcolormesh(xx, yy, Z, cmap=cmap_light)\n"
     ]
    },
    {
     "data": {
      "text/plain": [
       "<Figure size 432x288 with 0 Axes>"
      ]
     },
     "metadata": {},
     "output_type": "display_data"
    },
    {
     "data": {
      "image/png": "[encoded data removed]",
      "text/plain": [
       "<Figure size 432x216 with 1 Axes>"
      ]
     },
     "metadata": {
      "needs_background": "light"
     },
     "output_type": "display_data"
    }
   ],
   "source": [
    "k = 25 # how many nearest neighbors are consulted\n",
    "\n",
    "X = iris.data[:, [0,1]]  # we only take the first two features. We could\n",
    "y = iris.target\n",
    "\n",
    "h = .02  # step size in the mesh\n",
    "\n",
    "# Create color maps\n",
    "cmap_light = ListedColormap(['#FFAAAA', '#AAFFAA', '#AAAAFF'])\n",
    "cmap_bold = ListedColormap(['#FF0000', '#00FF00', '#0000FF'])\n",
    "\n",
    "# we create an instance of Neighbours Classifier and fit the data.\n",
    "clf = neighbors.KNeighborsClassifier(k, weights='distance')\n",
    "clf.fit(X, y)\n",
    "\n",
    "# Plot the decision boundary. For that, we will assign a color to each\n",
    "# point in the mesh [x_min, x_max]x[y_min, y_max].\n",
    "x_min, x_max = X[:, 0].min() - 1, X[:, 0].max() + 1\n",
    "y_min, y_max = X[:, 1].min() - 1, X[:, 1].max() + 1\n",
    "xx, yy = np.meshgrid(np.arange(x_min, x_max, h),\n",
    "                     np.arange(y_min, y_max, h))\n",
    "Z = clf.predict(np.c_[xx.ravel(), yy.ravel()])\n",
    "\n",
    "# Put the result into a color plot\n",
    "Z = Z.reshape(xx.shape)\n",
    "plt.figure()\n",
    "plt.figure(figsize=(6,3))   # this makes both axis equal \n",
    "plt.pcolormesh(xx, yy, Z, cmap=cmap_light)\n",
    "\n",
    "# Plot also the training points\n",
    "plt.scatter(X[:, 0], X[:, 1], c=y, cmap=cmap_bold)\n",
    "plt.xlim(xx.min(), xx.max())\n",
    "plt.ylim(yy.min(), yy.max())\n",
    "plt.title(\"3-Class classification (k = %i, weights = '%s')\" % (k, 'uniform'))\n",
    "plt.show()"
   ]
  },
  {
   "cell_type": "markdown",
   "metadata": {},
   "source": [
    "The resulting figure shows the predictions of kNN when $k=1$. If `x_new` is in the blue region, the prediction will be the blue class. From this picture, we can observe a small blue blobs inside the predominantly gray area. This is because the nearest neighbor in this area is the blue example. \n",
    "\n",
    "**Question 1**. Change value of k to 3 and observe if there is any difference. Discuss what you see and why.\n",
    "\n",
    "Our graph changes because we are consulting fewer neighbors to determine what we predict the answer to be true. However, even though we are consulting fewer neighbors, the graph seems to be more accurate as there are fewer blue points located in the green space.\n",
    "\n",
    "\n",
    "\n",
    "**Question 2**. Change k to an even higher value, let us say to 25. What do we see now? Discuss.\n",
    "\n",
    "Now we see more defined areas for the red, green, and blue areas. Even though we are consulting more neighbors, one would initially expect the graph to be more accurate, however, we see more blue data points located in the \"green section.\"\n",
    "\n",
    "\n",
    "\n",
    "**Queston 3**. In the line that creates `clf` change weights='uniform' to weights='distance'. Check the documentation or google to understand what it means. Explain. Run the code and discuss if you see any difference.\n",
    "\n",
    "Uniform weights state that all the points in the neighborhood are weighted equally, so they are all considered the same weight. Distance weights state that they are weighted by the inverse of their distance. Therefore, points that are closer to that of an query point will have a greater influence on the decision than points that are far away. I do not see a notable difference in the graph that is outputted but it does look like there is a more defined line between the red and the other two colors. This may be because of how closely oriented they are. \n",
    "\n",
    "**Question 4**. Take a look at the code and try to understand what each line of the code does. Explain each line of code.\n"
   ]
  },
  {
   "cell_type": "markdown",
   "metadata": {},
   "source": [
    "### Training and testing\n",
    "  As mentioned above, the typical mechanism for testing accuracy of a `predictor` is to split the data randomly into training and testing, train `predictor` on training data and test its performance on test data. Let us see how it can be done."
   ]
  },
  {
   "cell_type": "code",
   "execution_count": 5,
   "metadata": {},
   "outputs": [],
   "source": [
    "from sklearn.model_selection import train_test_split\n",
    "X_train, X_test, y_train, y_test = train_test_split(\n",
    "    X, y, test_size=0.33)"
   ]
  },
  {
   "cell_type": "markdown",
   "metadata": {},
   "source": [
    "**Question 5**. What is the size of the resulting objects?\n",
    "\n",
    "Now that we created training and test sets, we can train a kNN classifier using the training data. Before moving forward, let us take a second and take a look at the documentation for kNN implementation in sklearn: http://scikit-learn.org/stable/modules/generated/sklearn.neighbors.KNeighborsClassifier.html.\n",
    "\n",
    "Let us train the kNN predictor:"
   ]
  },
  {
   "cell_type": "code",
   "execution_count": 6,
   "metadata": {},
   "outputs": [
    {
     "name": "stdout",
     "output_type": "stream",
     "text": [
      "KNeighborsClassifier(n_neighbors=1)\n"
     ]
    }
   ],
   "source": [
    "#from sklearn.neighbors import KNeighborsClassifier\n",
    "k = 1   # number of nearest neighbors\n",
    "predictor = neighbors.KNeighborsClassifier(n_neighbors = k)\n",
    "predictor.fit(X_train, y_train);\n",
    "print(predictor)"
   ]
  },
  {
   "cell_type": "markdown",
   "metadata": {},
   "source": [
    "Now that we trained `predictor` we can use it to provide predictions on any example `x`. "
   ]
  },
  {
   "cell_type": "code",
   "execution_count": 7,
   "metadata": {},
   "outputs": [
    {
     "name": "stdout",
     "output_type": "stream",
     "text": [
      "[[6.5 3. ]\n",
      " [5.8 2.6]\n",
      " [6.5 3.2]\n",
      " [5.1 3.5]]\n",
      "[[2 2]\n",
      " [1 1]\n",
      " [1 2]\n",
      " [0 0]]\n"
     ]
    }
   ],
   "source": [
    "# select the first 4 test examples\n",
    "i = [0,1,2,3]\n",
    "x = X_test[i,:]\n",
    "print(x)\n",
    "# predict its label\n",
    "yhat = predictor.predict(x)\n",
    "# compare predicted and true labels\n",
    "print(np.array(list(zip(yhat,y_test[i]))))\n",
    "nparray = np.array(list(zip(yhat,y_test[i])))"
   ]
  },
  {
   "cell_type": "markdown",
   "metadata": {},
   "source": [
    "**Question 6**. Did your kNN predictor do a good job in predicting labels of the first 4 test examples? \n",
    "\n",
    "Our KNN predictor has a 75% success rate which is honestly fairly decent. \n",
    "\n",
    "\n",
    "\n",
    "**Question 7**. Write a piece of code that calculates the accuracy on those 4 test examples (number of correct guesses divided by the total number of guesses.\n",
    "\n",
    "\n"
   ]
  },
  {
   "cell_type": "code",
   "execution_count": 8,
   "metadata": {},
   "outputs": [
    {
     "name": "stdout",
     "output_type": "stream",
     "text": [
      "[2 1 1 0]\n",
      "[2 1 2 0]\n",
      "The accuracy of the above code is: 0.75\n"
     ]
    }
   ],
   "source": [
    "numbercorrect = sum(1 for a,b in zip(yhat, y_test[i]) if a==b)\n",
    "print(yhat)\n",
    "print(y_test[i])\n",
    "totallength = len(yhat)\n",
    "print(\"The accuracy of the above code is: \" + str(int(numbercorrect)/totallength))\n"
   ]
  },
  {
   "cell_type": "markdown",
   "metadata": {},
   "source": [
    "**Question 8**. Find the predictions on all test examples in X_test and calculate the accuracy using your code from Question 7.\n",
    "\n",
    "Pay attention that methods in sklearn.neighbors.KNeighborsClassifier allow you to test the accuracy in a faster way (you should not use it to answer Questions 7 and 8):"
   ]
  },
  {
   "cell_type": "code",
   "execution_count": 9,
   "metadata": {},
   "outputs": [
    {
     "name": "stdout",
     "output_type": "stream",
     "text": [
      "The accuracy of the above code is: 0.76\n"
     ]
    }
   ],
   "source": [
    "# select all the samples from X_test\n",
    "i = list(range(0,50))\n",
    "x = X_test[i,:]\n",
    "\n",
    "# predict its label\n",
    "yhat = predictor.predict(x)\n",
    "\n",
    "# compare predicted and true labels\n",
    "nparray = np.array(list(zip(yhat,y_test[i])))\n",
    "\n",
    "numbercorrect = sum(1 for a,b in zip(yhat, y_test[i]) if a==b)\n",
    "totallength = len(X_test)\n",
    "\n",
    "print(\"The accuracy of the above code is: \" + str(int(numbercorrect)/totallength))"
   ]
  },
  {
   "cell_type": "markdown",
   "metadata": {},
   "source": [
    "**Question 9**. Train `predictor` using different choices of k. Try $k = 1, 3, 5, 15, 25, 50$. Report the accuracies on the test data (you can use the score method). Which choice of $k$ resulted in the highest accuracy? Comment briefly if the results make sense to you.\n",
    "\n"
   ]
  },
  {
   "cell_type": "code",
   "execution_count": 10,
   "metadata": {},
   "outputs": [
    {
     "name": "stdout",
     "output_type": "stream",
     "text": [
      "Accuracy for k = 1 is: 0.76\n",
      "Accuracy for k = 3 is: 0.78\n",
      "Accuracy for k = 5 is: 0.8\n",
      "Accuracy for k = 15 is: 0.8\n",
      "Accuracy for k = 25 is: 0.84\n",
      "Accuracy for k = 50 is: 0.8\n"
     ]
    }
   ],
   "source": [
    "valuesk = [1,3,5,15,25,50]\n",
    "\n",
    "for zeus in valuesk:\n",
    "    # number of nearest neighbors is defined by valuesk\n",
    "    predictor = neighbors.KNeighborsClassifier(n_neighbors = zeus)\n",
    "    predictor.fit(X_train, y_train);\n",
    "    accuracy = predictor.score(X_test,y_test)\n",
    "    print(\"Accuracy for k = \" +str(zeus) + \" is: \" + str(accuracy)) \n"
   ]
  },
  {
   "cell_type": "markdown",
   "metadata": {},
   "source": [
    "**Question 10**. Other than choice of $k$, `KNeighborsClassifier` allows you to make some other choices. For example, in *Question 3* you saw that you can use a weighted prediction. There are few other options. Study the documentation and summarize in few sentences what other options you have when training the kNN classifier.\n",
    "\n",
    "We can also specify the algorithm to be `ball tree`, `kd_tree`, `brute`, or `auto`. These are various algorithms that will be used to compute the potential nearest neighbors. Auto will work to decide the most appropriate algorithm as based upon the values that we have previously passed. We can take our time to decide how we want to calculate our distance. By default, the distance is calculated as \"minkowski\" which gives us our standard Euclidean distance. However, we can also pass a str or callable function to provide our distance. \n"
   ]
  },
  {
   "cell_type": "markdown",
   "metadata": {},
   "source": [
    "**Question 11**. Train kNN classifier on a different pair of features of your choice. Use $k$ of your choice and feel free to keep other choices at their default values. Which pair of features results in higher accuracy?\n"
   ]
  },
  {
   "cell_type": "code",
   "execution_count": 11,
   "metadata": {},
   "outputs": [
    {
     "name": "stdout",
     "output_type": "stream",
     "text": [
      "The accuracy of the above code is 0.94 for a k value of: 1\n",
      "The accuracy of the above code is 0.88 for a k value of: 5\n",
      "The accuracy of the above code is 0.96 for a k value of: 10\n",
      "The accuracy of the above code is 0.9 for a k value of: 15\n",
      "The accuracy of the above code is 0.92 for a k value of: 25\n",
      "The accuracy of the above code is 0.94 for a k value of: 50\n"
     ]
    }
   ],
   "source": [
    "valuesk = [1,5,10,15,25,50]\n",
    "\n",
    "for ares in valuesk:\n",
    "    Xnew = iris.data[:, [2,3]]  # last two features\n",
    "    ynew = iris.target\n",
    "\n",
    "    #create test set\n",
    "    X_trainnew, X_testnew, y_trainnew, y_testnew = train_test_split(Xnew, ynew, test_size=0.33)\n",
    "\n",
    "    #train\n",
    "    predictornew = neighbors.KNeighborsClassifier(n_neighbors = ares)\n",
    "    predictor.fit(X_trainnew, y_trainnew);\n",
    "    #print(predictornew)\n",
    "    #print(len(X_trainnew),len(X_testnew),len(y_trainnew),len(y_testnew))\n",
    "\n",
    "    # select all the samples from X_test\n",
    "    i = list(range(0,50))\n",
    "    x = X_testnew[i,:]\n",
    "    # predict its label\n",
    "    yhatnew = predictor.predict(x)\n",
    "    # compare predicted and true labels\n",
    "    nparray = np.array(list(zip(yhatnew,y_testnew[i])))\n",
    "\n",
    "    numbercorrectnew = sum(1 for a,b in zip(yhatnew, y_testnew[i]) if a==b)\n",
    "    totallengthnew = len(X_testnew)\n",
    "\n",
    "    print(\"The accuracy of the above code is \" + str(int(numbercorrectnew)/totallengthnew) + \" for a k value of: \" + str(ares))\n"
   ]
  },
  {
   "cell_type": "markdown",
   "metadata": {},
   "source": [
    "The pairings of petal length and petal width offer an algorithm with extremely high accuracy; petal length & petal width are notably more accurate than sepal length and sepal width."
   ]
  },
  {
   "cell_type": "markdown",
   "metadata": {},
   "source": [
    "**Question 12**. Train kNN classifier using all 4 features. Report the accuracy on test data set. Play with parameters of kNN to try to find a combination that results in the highest accuracy. Can you find something that works better than $k=3$ and default choices?"
   ]
  },
  {
   "cell_type": "code",
   "execution_count": 12,
   "metadata": {},
   "outputs": [
    {
     "name": "stdout",
     "output_type": "stream",
     "text": [
      "The accuracy of the above code is 0.92 for a k value of: 1\n",
      "The accuracy of the above code is 0.94 for a k value of: 3\n",
      "The accuracy of the above code is 0.92 for a k value of: 5\n",
      "The accuracy of the above code is 0.98 for a k value of: 15\n",
      "The accuracy of the above code is 0.9 for a k value of: 30\n"
     ]
    }
   ],
   "source": [
    "k = [1,3,5,15,30]\n",
    "Xall = iris.data[:,:]\n",
    "yall = iris.target\n",
    "\n",
    "for val in k:\n",
    "    Xtrainall, Xtestall, ytrainall, ytestall = train_test_split(Xall,yall,test_size=0.33)\n",
    "    predictor = neighbors.KNeighborsClassifier(n_neighbors = val)\n",
    "    predictor.fit(Xtrainall, ytrainall);\n",
    "    \n",
    "    i = list(range(50))\n",
    "    x = Xtestall[i,:]\n",
    "    \n",
    "    yhatall = predictor.predict(x)\n",
    "    \n",
    "    nparray = np.array(list(zip(yhatall,ytestall[i])))\n",
    "    \n",
    "    number_correct = sum(1 for a,b in zip(yhatall,ytestall[i]) if a==b)\n",
    "    total_length = len(Xtestall)\n",
    "\n",
    "    print(\"The accuracy of the above code is \" + str(int(number_correct)/total_length) + \" for a k value of: \" + str(val))\n",
    "\n",
    "    \n",
    "    "
   ]
  },
  {
   "cell_type": "code",
   "execution_count": 13,
   "metadata": {},
   "outputs": [
    {
     "name": "stdout",
     "output_type": "stream",
     "text": [
      "The accuracy of the above code is 0.94 for a k value of: 1\n",
      "The accuracy of the above code is 0.98 for a k value of: 3\n",
      "The accuracy of the above code is 0.98 for a k value of: 5\n",
      "The accuracy of the above code is 1.0 for a k value of: 15\n",
      "The accuracy of the above code is 0.98 for a k value of: 30\n"
     ]
    }
   ],
   "source": [
    "k = [1,3,5,15,30]\n",
    "Xall = iris.data[:,:]\n",
    "yall = iris.target\n",
    "\n",
    "for val in k:\n",
    "    Xtrainall, Xtestall, ytrainall, ytestall = train_test_split(Xall,yall,test_size=0.33)\n",
    "    predictor = neighbors.KNeighborsClassifier(n_neighbors = val, weights = 'distance')\n",
    "    predictor.fit(Xtrainall, ytrainall);\n",
    "    \n",
    "    i = list(range(50))\n",
    "    x = Xtestall[i,:]\n",
    "    \n",
    "    yhatall = predictor.predict(x)\n",
    "    \n",
    "    nparray = np.array(list(zip(yhatall,ytestall[i])))\n",
    "    \n",
    "    number_correct = sum(1 for a,b in zip(yhatall,ytestall[i]) if a==b)\n",
    "    total_length = len(Xtestall)\n",
    "\n",
    "    print(\"The accuracy of the above code is \" + str(int(number_correct)/total_length) + \" for a k value of: \" + str(val))\n",
    "\n",
    "    "
   ]
  },
  {
   "cell_type": "markdown",
   "metadata": {},
   "source": [
    "## Part B: Write your own function for kNN (50% of the score)\n",
    "\n",
    "**Question 13** Write a function for k-nearest neighbor (k-NN) classification of the form `accuracy = knnC(X_test, y_test, X_train, y_train, k)`, where k is the number of nearest neighbors. Assume the Euclidean distance. So, the inputs are training and test data and the output should be accuracy on test data. Repeat **Question 9** using your function. Check if the results are the same.\n",
    "**NOTE:** I know that you can find python code for this on Web. However, I specifically ask you to write this function on your own and not use anybody's help. This is one of the rare ML algorithms that can be quickly implemented. I think you will learn a lot from this experience that will be very useful for the remainder of this course.\n"
   ]
  },
  {
   "cell_type": "code",
   "execution_count": 45,
   "metadata": {},
   "outputs": [
    {
     "name": "stdout",
     "output_type": "stream",
     "text": [
      "The accuracy of the above code is 0.96 for a k value of: 1\n",
      "The accuracy of the above code is 0.96 for a k value of: 3\n",
      "The accuracy of the above code is 0.96 for a k value of: 5\n",
      "The accuracy of the above code is 0.96 for a k value of: 15\n",
      "The accuracy of the above code is 0.96 for a k value of: 30\n"
     ]
    }
   ],
   "source": [
    "#start by defining your dataset and specifying what parameters you want\n",
    "iris = datasets.load_iris()\n",
    "x_all = iris.data[:,:]\n",
    "y_all = iris.target\n",
    "k_vals = [1,3,5,15,30] \n",
    "\n",
    "Xtrainiris, Xtestiris, ytrainiris, ytestiris = train_test_split(x_all,y_all,test_size=0.33)\n",
    "\n",
    "def kNNfunc(Xtrainiris, Xtestiris, ytrainiris, ytestiris, k_vals):\n",
    "    predictor = neighbors.KNeighborsClassifier(n_neighbors = val)\n",
    "    predictor.fit(Xtrainiris, ytrainiris);\n",
    "    i = list(range(50))\n",
    "    x = Xtestiris[:,:]\n",
    "    y_iris = predictor.predict(x)\n",
    "\n",
    "    nparray = np.array(list(zip(y_iris,ytestiris[i])))\n",
    "\n",
    "    number_correct_iris = sum(1 for a,b in zip(y_iris,ytestiris[i]) if a==b)\n",
    "    total_length_iris = len(Xtestiris)\n",
    "\n",
    "    print(\"The accuracy of the above code is \" + str(int(number_correct_iris)/total_length_iris) + \" for a k value of: \" + str(val))\n",
    "\n",
    "    return(accuracy)\n",
    "\n",
    "for val in k_vals:\n",
    "    accuracy = kNNfunc(Xtrainiris, Xtestiris, ytrainiris, ytestiris, k_vals)\n",
    "    "
   ]
  },
  {
   "cell_type": "code",
   "execution_count": null,
   "metadata": {},
   "outputs": [],
   "source": []
  },
  {
   "cell_type": "code",
   "execution_count": null,
   "metadata": {},
   "outputs": [],
   "source": []
  }
 ],
 "metadata": {
  "anaconda-cloud": {},
  "kernelspec": {
   "display_name": "Python 3",
   "language": "python",
   "name": "python3"
  },
  "language_info": {
   "codemirror_mode": {
    "name": "ipython",
    "version": 3
   },
   "file_extension": ".py",
   "mimetype": "text/x-python",
   "name": "python",
   "nbconvert_exporter": "python",
   "pygments_lexer": "ipython3",
   "version": "3.8.8"
  }
 },
 "nbformat": 4,
 "nbformat_minor": 1
}
