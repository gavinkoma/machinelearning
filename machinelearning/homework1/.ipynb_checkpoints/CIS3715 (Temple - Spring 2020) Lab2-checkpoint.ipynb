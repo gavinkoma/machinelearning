{
 "cells": [
  {
   "cell_type": "markdown",
   "metadata": {},
   "source": [
    "# Lab 2\n",
    "## Using Python for Exploratory Data Analysis (EDA)\n",
    "\n",
    "The first part of Lab2 is to go through a demo for EDA of a relatively clean tabular data called *Auto MPG data*. This data set comes from the UCI Machine Learning Data Repository (http://archive.ics.uci.edu/ml/) and can be found at http://archive.ics.uci.edu/ml/datasets/Auto+MPG. We provide a slightly modified version of this data set as file `cars.csv`.\n",
    "\n",
    "To load this data set and pursue EDA, it is a good idea to use several popular Python packages, which come preloaded with the Anaconda software:\n",
    "- pandas (http://pandas.pydata.org/) -- a library for data science\n",
    "- numpy (http://www.numpy.org/) -- a library for data computations\n",
    "- matplotlib (http://matplotlib.org/) -- a library for data visualization\n",
    "\n",
    "The main feature of *pandas* is its `DataFrame` data structure that provides an intuitive way of handling tabular data. The main feature of *numpy* is its `array` data structure that represents matrices and allows us to perform matrix algebra operations. *matplotlib* allows visualizing data stored in `DataFrame` or `array` objects. \n",
    "\n",
    "As you will soon realize, each new Python library requires spending some time to learn about it. There are several nice tutorials that you can find on the web that get you started with the 3 libraries. A particularly great resource for learning about those libraries is your textbook *Python for Data Analysis*, so please take some time to browse its contents and try to run the code provided in it. When learning about the new libraries, you are best advised to jump in and immediatelly start tinkering with the code. The more time you spend using the library, the more you will uncover about all the great features and posibilities the library offers you.\n",
    "\n",
    "Let us start by loading the 3 libraries in a particular way that many data scientists prefer."
   ]
  },
  {
   "cell_type": "code",
   "execution_count": 2,
   "metadata": {},
   "outputs": [],
   "source": [
    "import pandas as pd\n",
    "import numpy as np\n",
    "import matplotlib.pyplot as plt\n",
    "# the following line allows ipython to display plots\n",
    "%matplotlib inline  "
   ]
  },
  {
   "cell_type": "markdown",
   "metadata": {},
   "source": [
    "**Question 1**: What are we accomplishing with `as` reserved word?\n",
    "\n",
    "The reserved word \"as\" allows us to assign a variable name to our imported library. In this case, instead of using the full term \"pandas\" to use pandas oriented code, we can use pd instead. It allows us to access things a bit easier. "
   ]
  },
  {
   "cell_type": "markdown",
   "metadata": {},
   "source": [
    "`cars.csv` is in an easy-to-read comma separated format and the following *pandas* functionality makes it easy to read it into a `DataFrame` object. "
   ]
  },
  {
   "cell_type": "code",
   "execution_count": 4,
   "metadata": {},
   "outputs": [
    {
     "name": "stdout",
     "output_type": "stream",
     "text": [
      "                         Car   MPG  Cylinders  Displacement  Horsepower  \\\n",
      "0  Chevrolet Chevelle Malibu  18.0          8         307.0         130   \n",
      "1          Buick Skylark 320  15.0          8         350.0         165   \n",
      "2         Plymouth Satellite  18.0          8         318.0         150   \n",
      "3              AMC Rebel SST  16.0          8         304.0         150   \n",
      "4                Ford Torino  17.0          8         302.0         140   \n",
      "5           Ford Galaxie 500  15.0          8         429.0         198   \n",
      "6           Chevrolet Impala  14.0          8         454.0         220   \n",
      "7          Plymouth Fury iii  14.0          8         440.0         215   \n",
      "8           Pontiac Catalina  14.0          8         455.0         225   \n",
      "9         AMC Ambassador DPL  15.0          8         390.0         190   \n",
      "\n",
      "   Weight  Acceleration  Model Origin  \n",
      "0    3504          12.0     70     US  \n",
      "1    3693          11.5     70     US  \n",
      "2    3436          11.0     70     US  \n",
      "3    3433          12.0     70     US  \n",
      "4    3449          10.5     70     US  \n",
      "5    4341          10.0     70     US  \n",
      "6    4354           9.0     70     US  \n",
      "7    4312           8.5     70     US  \n",
      "8    4425          10.0     70     US  \n",
      "9    3850           8.5     70     US  \n"
     ]
    }
   ],
   "source": [
    "# read this csv file, remember to put the full path to \n",
    "# the directory where you saved the data\n",
    "df = pd.read_csv('cars.csv')  # df is DataFrame object\n",
    "print (df.head(10))    # see the first 5 rows of the loaded table"
   ]
  },
  {
   "cell_type": "markdown",
   "metadata": {},
   "source": [
    "**Question 2**: How can you display the first 10 rows using method `head`? What are the types of each of the columns in `df`?\n",
    "\n",
    "In order to display the first 10 rows, all we need to do is specify that we want 10 rows shown instead of the default 5. To do so, we just write print(df.head(10)). I have included this above instead of the original code which resorted to the default 5 rows. "
   ]
  },
  {
   "cell_type": "markdown",
   "metadata": {},
   "source": [
    "There are different ways of exploring and indexing the table. Here are some examples."
   ]
  },
  {
   "cell_type": "code",
   "execution_count": 24,
   "metadata": {},
   "outputs": [
    {
     "name": "stdout",
     "output_type": "stream",
     "text": [
      "['Car', 'MPG', 'Cylinders', 'Displacement', 'Horsepower', 'Weight', 'Acceleration', 'Model', 'Origin']\n",
      "                         Car   MPG  Cylinders  Displacement  Horsepower  \\\n",
      "0  Chevrolet Chevelle Malibu  18.0          8         307.0         130   \n",
      "1          Buick Skylark 320  15.0          8         350.0         165   \n",
      "2         Plymouth Satellite  18.0          8         318.0         150   \n",
      "3              AMC Rebel SST  16.0          8         304.0         150   \n",
      "4                Ford Torino  17.0          8         302.0         140   \n",
      "\n",
      "   Weight  Acceleration  Model Origin  \n",
      "0    3504          12.0     70     US  \n",
      "1    3693          11.5     70     US  \n",
      "2    3436          11.0     70     US  \n",
      "3    3433          12.0     70     US  \n",
      "4    3449          10.5     70     US  \n",
      "                         Car   MPG\n",
      "0  Chevrolet Chevelle Malibu  18.0\n",
      "1          Buick Skylark 320  15.0\n",
      "2         Plymouth Satellite  18.0\n",
      "3              AMC Rebel SST  16.0\n",
      "4                Ford Torino  17.0\n",
      "5           Ford Galaxie 500  15.0\n",
      "6           Chevrolet Impala  14.0\n",
      "7          Plymouth Fury iii  14.0\n",
      "8           Pontiac Catalina  14.0\n",
      "9         AMC Ambassador DPL  15.0\n",
      "                                 Car   MPG  Cylinders  Displacement  \\\n",
      "251  Volkswagen Rabbit Custom Diesel  43.1          4          90.0   \n",
      "316                Volkswagen Rabbit  41.5          4          98.0   \n",
      "329                        Mazda GLC  46.6          4          86.0   \n",
      "331                       Datsun 210  40.8          4          85.0   \n",
      "332     Volkswagen Rabbit C (Diesel)  44.3          4          90.0   \n",
      "333       Volkswagen Dasher (diesel)  43.4          4          90.0   \n",
      "336              Honda Civic 1500 gl  44.6          4          91.0   \n",
      "337             Renault Lecar Deluxe  40.9          4          85.0   \n",
      "402                Volkswagen Pickup  44.0          4          97.0   \n",
      "\n",
      "     Horsepower  Weight  Acceleration  Model  Origin  \n",
      "251          48    1985          21.5     78  Europe  \n",
      "316          76    2144          14.7     80  Europe  \n",
      "329          65    2110          17.9     80   Japan  \n",
      "331          65    2110          19.2     80   Japan  \n",
      "332          48    2085          21.7     80  Europe  \n",
      "333          48    2335          23.7     80  Europe  \n",
      "336          67    1850          13.8     80   Japan  \n",
      "337           0    1835          17.3     80  Europe  \n",
      "402          52    2130          24.6     82  Europe  \n",
      "                         Car   MPG  Cylinders  Displacement  Horsepower\n",
      "0  Chevrolet Chevelle Malibu  18.0          8         307.0         130\n",
      "1          Buick Skylark 320  15.0          8         350.0         165\n",
      "5           Ford Galaxie 500  15.0          8         429.0         198\n",
      "\n",
      "\n",
      "Show two other ways to print the last 5 rows of data.\n",
      "Method 1:\n",
      "                   Car   MPG  Cylinders  Displacement  Horsepower  Weight  \\\n",
      "401    Ford Mustang GL  27.0          4         140.0          86    2790   \n",
      "402  Volkswagen Pickup  44.0          4          97.0          52    2130   \n",
      "403      Dodge Rampage  32.0          4         135.0          84    2295   \n",
      "404        Ford Ranger  28.0          4         120.0          79    2625   \n",
      "405         Chevy S-10  31.0          4         119.0          82    2720   \n",
      "\n",
      "     Acceleration  Model  Origin  \n",
      "401          15.6     82      US  \n",
      "402          24.6     82  Europe  \n",
      "403          11.6     82      US  \n",
      "404          18.6     82      US  \n",
      "405          19.4     82      US  \n",
      "\n",
      "\n",
      "Method 2:\n",
      "                   Car   MPG  Cylinders  Displacement  Horsepower  Weight  \\\n",
      "401    Ford Mustang GL  27.0          4         140.0          86    2790   \n",
      "402  Volkswagen Pickup  44.0          4          97.0          52    2130   \n",
      "403      Dodge Rampage  32.0          4         135.0          84    2295   \n",
      "404        Ford Ranger  28.0          4         120.0          79    2625   \n",
      "405         Chevy S-10  31.0          4         119.0          82    2720   \n",
      "\n",
      "     Acceleration  Model  Origin  \n",
      "401          15.6     82      US  \n",
      "402          24.6     82  Europe  \n",
      "403          11.6     82      US  \n",
      "404          18.6     82      US  \n",
      "405          19.4     82      US  \n",
      "\n",
      "\n",
      "Print all cars that have more than 3 cylinders:\n",
      "                           Car   MPG  Cylinders  Displacement  Horsepower  \\\n",
      "0    Chevrolet Chevelle Malibu  18.0          8         307.0         130   \n",
      "1            Buick Skylark 320  15.0          8         350.0         165   \n",
      "2           Plymouth Satellite  18.0          8         318.0         150   \n",
      "3                AMC Rebel SST  16.0          8         304.0         150   \n",
      "4                  Ford Torino  17.0          8         302.0         140   \n",
      "..                         ...   ...        ...           ...         ...   \n",
      "401            Ford Mustang GL  27.0          4         140.0          86   \n",
      "402          Volkswagen Pickup  44.0          4          97.0          52   \n",
      "403              Dodge Rampage  32.0          4         135.0          84   \n",
      "404                Ford Ranger  28.0          4         120.0          79   \n",
      "405                 Chevy S-10  31.0          4         119.0          82   \n",
      "\n",
      "     Weight  Acceleration  Model  Origin  \n",
      "0      3504          12.0     70      US  \n",
      "1      3693          11.5     70      US  \n",
      "2      3436          11.0     70      US  \n",
      "3      3433          12.0     70      US  \n",
      "4      3449          10.5     70      US  \n",
      "..      ...           ...    ...     ...  \n",
      "401    2790          15.6     82      US  \n",
      "402    2130          24.6     82  Europe  \n",
      "403    2295          11.6     82      US  \n",
      "404    2625          18.6     82      US  \n",
      "405    2720          19.4     82      US  \n",
      "\n",
      "[402 rows x 9 columns]\n"
     ]
    }
   ],
   "source": [
    "\n",
    "\n",
    "print (list(df.columns))\n",
    "print (df[0:5])         # print the first 5 rows, same outcome as df.head()\n",
    "print (df[['Car', 'MPG']][:10])  # print the first 10 rows for selected columns\n",
    "print (df[df['MPG'] > 40])   # using Boolean condition, print only cars with MPG > 40\n",
    "print (df.iloc[[0,1,5],0:5])   # uses 'ix' indexing, selects rows and columns based on their location in the table\n",
    "\n",
    "print(\"\\n\")\n",
    "\n",
    "#show two other ways to print the last 5 rows of data\n",
    "print(\"Show two other ways to print the last 5 rows of data.\")\n",
    "print(\"Method 1:\")\n",
    "print(df.tail(5))\n",
    "print(\"\\n\")\n",
    "\n",
    "print(\"Method 2:\")\n",
    "print(df.iloc[-5:])\n",
    "\n",
    "#print name of cars with 3 cylinders\n",
    "print(\"\\n\")\n",
    "print(\"Print all cars that have more than 3 cylinders:\")\n",
    "print (df[df['Cylinders']>3])"
   ]
  },
  {
   "cell_type": "markdown",
   "metadata": {},
   "source": [
    "**Question 3**: Show two ways of printing the last 5 rows of `df`. Print the names of the cars with 3 cilinders.\n",
    "\n",
    ".ix has been deprecated in previous versions of pandas, not sure why this was included, should have been .iloc instead to make the code work. \n",
    "\n",
    "The code that is required to complete all tasks of question 3 has been included in the python workbox above. They are answered with topic statements and are followed by the proper output to complete question 3.\n"
   ]
  },
  {
   "cell_type": "markdown",
   "metadata": {},
   "source": [
    "Now, we are ready to start plotting the data."
   ]
  },
  {
   "cell_type": "code",
   "execution_count": 25,
   "metadata": {},
   "outputs": [
    {
     "data": {
      "text/plain": [
       "[<matplotlib.lines.Line2D at 0x7fb7ebebf8b0>]"
      ]
     },
     "execution_count": 25,
     "metadata": {},
     "output_type": "execute_result"
    },
    {
     "data": {
      "image/png": "[encoded data removed]",
      "text/plain": [
       "<Figure size 432x144 with 1 Axes>"
      ]
     },
     "metadata": {
      "needs_background": "light"
     },
     "output_type": "display_data"
    }
   ],
   "source": [
    "plt.figure(figsize=(6,2))  # can control the size of the display\n",
    "plt.plot(df['Horsepower'])      # display 'Model' attribute"
   ]
  },
  {
   "cell_type": "markdown",
   "metadata": {},
   "source": [
    "**Question 4**: Plot *Horsepower* attribute, but only for the US cars. \n",
    "\n",
    "For this question, I created a new dataframe (df2) which fits the need of our criteria for this question. I made a dataframe that only contains the information regarding US cars (\"origin\" == \"us\"). I then plotted this information and created a new plot that contains all of the horsepower information for US cars. "
   ]
  },
  {
   "cell_type": "code",
   "execution_count": 55,
   "metadata": {},
   "outputs": [
    {
     "name": "stdout",
     "output_type": "stream",
     "text": [
      "                         Car   MPG  Cylinders  Displacement  Horsepower  \\\n",
      "0  Chevrolet Chevelle Malibu  18.0          8         307.0         130   \n",
      "1          Buick Skylark 320  15.0          8         350.0         165   \n",
      "2         Plymouth Satellite  18.0          8         318.0         150   \n",
      "3              AMC Rebel SST  16.0          8         304.0         150   \n",
      "4                Ford Torino  17.0          8         302.0         140   \n",
      "\n",
      "   Weight  Acceleration  Model Origin  \n",
      "0    3504          12.0     70     US  \n",
      "1    3693          11.5     70     US  \n",
      "2    3436          11.0     70     US  \n",
      "3    3433          12.0     70     US  \n",
      "4    3449          10.5     70     US  \n"
     ]
    },
    {
     "data": {
      "text/plain": [
       "[<matplotlib.lines.Line2D at 0x7fb7e6cef670>]"
      ]
     },
     "execution_count": 55,
     "metadata": {},
     "output_type": "execute_result"
    },
    {
     "data": {
      "image/png": "[encoded data removed]",
      "text/plain": [
       "<Figure size 432x144 with 1 Axes>"
      ]
     },
     "metadata": {
      "needs_background": "light"
     },
     "output_type": "display_data"
    }
   ],
   "source": [
    "df2 = df[df[\"Origin\"] == \"US\"]\n",
    "print(df2.head())\n",
    "\n",
    "plt.figure(figsize = (6,2))\n",
    "plt.plot(df2[\"Horsepower\"])"
   ]
  },
  {
   "cell_type": "markdown",
   "metadata": {},
   "source": [
    "To plot the histogram of a selected attribute:"
   ]
  },
  {
   "cell_type": "code",
   "execution_count": 87,
   "metadata": {},
   "outputs": [
    {
     "data": {
      "image/png": "[encoded data removed]",
      "text/plain": [
       "<Figure size 360x144 with 1 Axes>"
      ]
     },
     "metadata": {
      "needs_background": "light"
     },
     "output_type": "display_data"
    }
   ],
   "source": [
    "fig = plt.figure(figsize=(5,2))\n",
    "plt.hist(df['MPG'], bins=50);   # ; suppresses Out\n",
    "#plt.hist(df['Cylinders'], bins=10) "
   ]
  },
  {
   "cell_type": "markdown",
   "metadata": {},
   "source": [
    "**Question 5**: What can we conclude by looking at the histogram? Explain in one-two sentences. Figure out what is your preferred number of bins for *MPG* and *Cylinders* and argue why. \n",
    "\n",
    "come back to this question bc idk what these axes are"
   ]
  },
  {
   "cell_type": "markdown",
   "metadata": {},
   "source": [
    "The following code provides statistics for number of cylinders."
   ]
  },
  {
   "cell_type": "code",
   "execution_count": 88,
   "metadata": {},
   "outputs": [
    {
     "name": "stdout",
     "output_type": "stream",
     "text": [
      "col_0      count  percentage\n",
      "Cylinders                   \n",
      "3              4    0.985222\n",
      "4            207   50.985222\n",
      "5              3    0.738916\n",
      "6             84   20.689655\n",
      "8            108   26.600985\n"
     ]
    }
   ],
   "source": [
    "t = pd.crosstab(index=df[\"Cylinders\"],  # Make a crosstab\n",
    "                     columns=\"count\")     # Name the count column\n",
    "t['percentage']= (t/t.sum())*100\n",
    "print (t)"
   ]
  },
  {
   "cell_type": "markdown",
   "metadata": {},
   "source": [
    "**Question 6**: Try to learn more about `crosstab` method (by doing Google search) and write a line of code that uses it in a different way on `df` data.\n",
    "\n",
    "`crosstab` is really cool because it actually lets us tabulate a bunch of data in a really easy way. These commands can be done using other numpy or pandas tools but its a quick way to tabulate data acrossed a large table.\n",
    "\n",
    "Below I chose to group our data by cylinder and by origin. This originally listed how many cars of each cylinder had been created by each origin and tabulated the results for me. Then, I decided to determine the average weight of all of these values. Here, I used the aggfunc and gave it the mean command. I also defined our values as the weight. Pandas has essentially applied the mean function to the weight of all of our tabulated combinations of data."
   ]
  },
  {
   "cell_type": "code",
   "execution_count": 97,
   "metadata": {},
   "outputs": [
    {
     "name": "stdout",
     "output_type": "stream",
     "text": [
      "Origin     Europe   Japan      US\n",
      "Cylinders                        \n",
      "3             NaN  2398.0     NaN\n",
      "4          2343.0  2153.0  2437.0\n",
      "5          3103.0     NaN     NaN\n",
      "6          3382.0  2882.0  3214.0\n",
      "8             NaN     NaN  4105.0\n"
     ]
    }
   ],
   "source": [
    "new = pd.crosstab(df.Cylinders, df.Origin, values = df.Weight, aggfunc='mean').round(0)\n",
    "print(new)"
   ]
  },
  {
   "cell_type": "markdown",
   "metadata": {},
   "source": [
    "Horizontal bar plot:"
   ]
  },
  {
   "cell_type": "code",
   "execution_count": 98,
   "metadata": {},
   "outputs": [
    {
     "data": {
      "image/png": "[encoded data removed]",
      "text/plain": [
       "<Figure size 360x144 with 1 Axes>"
      ]
     },
     "metadata": {
      "needs_background": "light"
     },
     "output_type": "display_data"
    }
   ],
   "source": [
    "plt.figure(figsize=(5,2))\n",
    "plt.barh(t.index,t[\"count\"]);"
   ]
  },
  {
   "cell_type": "markdown",
   "metadata": {},
   "source": [
    "**Question 7**: How about a horizontal bar plot? Can you learn how to control the width of bars and make a plot that has thinner bars?"
   ]
  },
  {
   "cell_type": "code",
   "execution_count": 99,
   "metadata": {},
   "outputs": [
    {
     "data": {
      "text/plain": [
       "<BarContainer object of 5 artists>"
      ]
     },
     "execution_count": 99,
     "metadata": {},
     "output_type": "execute_result"
    },
    {
     "data": {
      "image/png": "[encoded data removed]",
      "text/plain": [
       "<Figure size 360x144 with 1 Axes>"
      ]
     },
     "metadata": {
      "needs_background": "light"
     },
     "output_type": "display_data"
    }
   ],
   "source": [
    "plt.figure(figsize=(5,2))\n",
    "plt.barh(t.index,t[\"count\"])"
   ]
  },
  {
   "cell_type": "markdown",
   "metadata": {},
   "source": [
    "Pie chart:"
   ]
  },
  {
   "cell_type": "code",
   "execution_count": null,
   "metadata": {},
   "outputs": [],
   "source": [
    "plt.figure(figsize=(5,2))\n",
    "plt.axis(\"equal\")\n",
    "plt.pie(t[\"count\"],labels=t.index,startangle=90);"
   ]
  },
  {
   "cell_type": "markdown",
   "metadata": {},
   "source": [
    "**Question 8**: Do you prefer bar or pie displayed chart and why?"
   ]
  },
  {
   "cell_type": "markdown",
   "metadata": {},
   "source": [
    "The following is a boxplot of MPG values for each of the model years. Pay attention that matplotlib is not used here. Instead, we called a panda `boxplot` method "
   ]
  },
  {
   "cell_type": "code",
   "execution_count": null,
   "metadata": {},
   "outputs": [],
   "source": [
    "df.boxplot(column='MPG',by='Model');"
   ]
  },
  {
   "cell_type": "markdown",
   "metadata": {},
   "source": [
    "**Question 9**: Discuss what can you learn from the displayed boxplot. Plot another boxplot using `df` data that you think is very useful and explain what can we learn from it?"
   ]
  },
  {
   "cell_type": "markdown",
   "metadata": {},
   "source": [
    "Scatterplot between MPG and Weight attributes:"
   ]
  },
  {
   "cell_type": "code",
   "execution_count": null,
   "metadata": {},
   "outputs": [],
   "source": [
    "plt.figure(figsize=(5,3))\n",
    "plt.scatter(df['MPG'],df['Weight']);"
   ]
  },
  {
   "cell_type": "markdown",
   "metadata": {},
   "source": [
    "**Question 10**: Discuss what can we learn from the displayed scatterplot.  "
   ]
  },
  {
   "cell_type": "markdown",
   "metadata": {},
   "source": [
    "We can decide on the size and collor of circles to represent some of data properties. Here, the size is proportional to Cylinders and color is related to Horsepower:"
   ]
  },
  {
   "cell_type": "code",
   "execution_count": null,
   "metadata": {},
   "outputs": [],
   "source": [
    "plt.figure(figsize=(5,3))\n",
    "plt.scatter(df['MPG'],df['Weight'],df['Cylinders']*10,df['Horsepower']);"
   ]
  },
  {
   "cell_type": "markdown",
   "metadata": {},
   "source": [
    "**Question 11**: Discuss what additional insight we can get from this scatterplot as compared to the previous scatterplot. Plot another scatterplot by picking a different set of attributes that you think is providing a useful view at the data. Discuss what can be concluded from that plot."
   ]
  },
  {
   "cell_type": "markdown",
   "metadata": {},
   "source": [
    "Pandas `scatter_matrix` method allows us to plot all scatterplots for a data set (it would take a few seconds to display):"
   ]
  },
  {
   "cell_type": "code",
   "execution_count": null,
   "metadata": {},
   "outputs": [],
   "source": [
    "pd.plotting.scatter_matrix(df, figsize=(15, 15));"
   ]
  },
  {
   "cell_type": "markdown",
   "metadata": {},
   "source": [
    "**Question 12**: Explain what are we seeing from this plot and discuss about the insights you obtained from it.\n",
    "\n",
    "When you are done with running and playing with the code provided in this file and answering Questions 1-12, **submit** `.ipynb` file containing modifications of this file together with your answers and comments. Feel free to modify the provided code or produce new lines of code.\n",
    "\n",
    "**Question 13**: Produce a 2 page word document titled \"Exploratory Analysis of MPG Data Set\". In this document you should combine your own discussion and figures produced by Python to provide a coherent story about the properties of the MPG data set and the most important and interesting insights about the data. You can feel free to frame your story around some known historical facts about the cars and U.S. and World economy during the 1970-1982 period. **Submit** the document as `.pdf` file."
   ]
  }
 ],
 "metadata": {
  "anaconda-cloud": {},
  "kernelspec": {
   "display_name": "Python 3 (ipykernel)",
   "language": "python",
   "name": "python3"
  },
  "language_info": {
   "codemirror_mode": {
    "name": "ipython",
    "version": 3
   },
   "file_extension": ".py",
   "mimetype": "text/x-python",
   "name": "python",
   "nbconvert_exporter": "python",
   "pygments_lexer": "ipython3",
   "version": "3.9.12"
  }
 },
 "nbformat": 4,
 "nbformat_minor": 1
}
